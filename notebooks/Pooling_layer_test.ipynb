{
 "cells": [
  {
   "cell_type": "code",
   "execution_count": 443,
   "metadata": {
    "collapsed": false
   },
   "outputs": [],
   "source": [
    "from mlp.layers import Layer\n",
    "\n",
    "class MaxPoolingLayer(Layer):\n",
    "    \n",
    "    def __init__(self, pool_size_1=2, pool_size_2=2):\n",
    "        \"\"\"Construct a new max-pooling layer.\n",
    "        \n",
    "        Args:\n",
    "            pool_size_1: Positive integer specifying size of pools over\n",
    "               which to take maximum value. The outputs of the layer\n",
    "               feeding in to this layer must have a dimension which\n",
    "               is a multiple of this pool size such that the outputs\n",
    "               can be split in to pools with no dimensions left over.\n",
    "            pool_size_2: similar\n",
    "        \"\"\"\n",
    "        self.pool_size_1 = pool_size_1\n",
    "        self.pool_size_2 = pool_size_2\n",
    "    \n",
    "    def fprop(self, inputs):\n",
    "        \"\"\"Forward propagates activations through the layer transformation.\n",
    "        \n",
    "        This corresponds to taking the maximum over non-overlapping pools of\n",
    "        inputs of a fixed size `pool_size`.\n",
    "\n",
    "        Args:\n",
    "            inputs: Array of layer inputs of shape (batch_size, num_channels, input_dim_1, input_dim_2).\n",
    "\n",
    "        Returns:\n",
    "            outputs: Array of layer outputs of shape (batch_size, num_channels, output_dim_1, output_dim_2).\n",
    "        \"\"\"\n",
    "        assert inputs.shape[-1] % self.pool_size_2 == 0, (\n",
    "            'Last dimension of inputs must be multiple of pool size')   \n",
    "        assert inputs.shape[-2] % self.pool_size_1 == 0, (\n",
    "            'Last dimension of inputs must be multiple of pool size') \n",
    "        pooled_inputs = inputs.reshape(\n",
    "            inputs.shape[:2] + \n",
    "            (inputs.shape[-2] // self.pool_size_1, self.pool_size_1) + \n",
    "            (inputs.shape[-1] // self.pool_size_2, self.pool_size_2))\n",
    "        pool_maxes = pooled_inputs.max(-1).max(-2)\n",
    "        self._mask =  pooled_inputs == pool_maxes[::,...,None,:][...,None]\n",
    "        return pool_maxes\n",
    "    \n",
    "\n",
    "    def bprop(self, inputs, outputs, grads_wrt_outputs):\n",
    "        \"\"\"Back propagates gradients through a layer.\n",
    "\n",
    "        Given gradients with respect to the outputs of the layer calculates the\n",
    "        gradients with respect to the layer inputs.\n",
    "\n",
    "        Args:\n",
    "            inputs: Array of layer inputs of shape (batch_size, input_dim).\n",
    "            outputs: Array of layer outputs calculated in forward pass of\n",
    "                shape (batch_size, num_channels, output_dim_1, output_dim_2),\n",
    "            grads_wrt_outputs: Array of gradients with respect to the layer\n",
    "                outputs of shape (batch_size, num_channels, output_dim_1, output_dim_2).\n",
    "\n",
    "        Returns:\n",
    "            Array of gradients with respect to the layer inputs of shape\n",
    "            (batch_size, num_channels, input_dim_1, input_dim_2).\n",
    "        \"\"\"\n",
    "        return (self._mask * grads_wrt_outputs[::,...,None,:][...,None]).reshape(inputs.shape)\n",
    "\n",
    "    def __repr__(self):\n",
    "        return 'MaxPoolingLayer(pool_size_1={0}, pool_size_2={1})'.format(self.pool_size_1,self.pool_size_2)\n"
   ]
  },
  {
   "cell_type": "markdown",
   "metadata": {},
   "source": [
    "2d: inputs (2,4)\n",
    "    pooled (2,2,2)\n",
    "    mask   (2,2,2)\n",
    "    outpus (2,2)\n",
    "4d: inputs (2,3,4,4)\n",
    "    pooled (2,3,2,2, 2,2)\n",
    "      mask (2,3,2,2, 2,2)\n",
    "    outputs(2,3,2,2)\n",
    "    "
   ]
  },
  {
   "cell_type": "code",
   "execution_count": 444,
   "metadata": {
    "collapsed": true
   },
   "outputs": [],
   "source": [
    "inputs = np.arange(96).reshape((2, 3, 4, 4))\n",
    "\n",
    "L = MaxPoolingLayer()\n",
    "O = L.fprop(inputs)\n",
    "g = np.arange(-12,12).reshape(2,3,2,2)\n",
    "b = L.bprop(inputs,O,g)"
   ]
  },
  {
   "cell_type": "code",
   "execution_count": 446,
   "metadata": {
    "collapsed": false
   },
   "outputs": [
    {
     "data": {
      "text/plain": [
       "array([[[[ 5,  7],\n",
       "         [13, 15]],\n",
       "\n",
       "        [[21, 23],\n",
       "         [29, 31]],\n",
       "\n",
       "        [[37, 39],\n",
       "         [45, 47]]],\n",
       "\n",
       "\n",
       "       [[[53, 55],\n",
       "         [61, 63]],\n",
       "\n",
       "        [[69, 71],\n",
       "         [77, 79]],\n",
       "\n",
       "        [[85, 87],\n",
       "         [93, 95]]]])"
      ]
     },
     "execution_count": 446,
     "metadata": {},
     "output_type": "execute_result"
    }
   ],
   "source": [
    "O"
   ]
  }
 ],
 "metadata": {
  "anaconda-cloud": {},
  "kernelspec": {
   "display_name": "Python [conda env:mlp]",
   "language": "python",
   "name": "conda-env-mlp-py"
  },
  "language_info": {
   "codemirror_mode": {
    "name": "ipython",
    "version": 2
   },
   "file_extension": ".py",
   "mimetype": "text/x-python",
   "name": "python",
   "nbconvert_exporter": "python",
   "pygments_lexer": "ipython2",
   "version": "2.7.12"
  }
 },
 "nbformat": 4,
 "nbformat_minor": 1
}
